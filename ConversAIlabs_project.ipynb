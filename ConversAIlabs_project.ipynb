{
  "nbformat": 4,
  "nbformat_minor": 0,
  "metadata": {
    "colab": {
      "provenance": []
    },
    "kernelspec": {
      "name": "python3",
      "display_name": "Python 3"
    },
    "language_info": {
      "name": "python"
    }
  },
  "cells": [
    {
      "cell_type": "code",
      "source": [
        "import os\n",
        "\n",
        "# Downloading audio from YouTube\n",
        "!yt-dlp -x --audio-format wav -o \"call_audio.%(ext)s\" https://www.youtube.com/watch?v=4ostqJD3Psc\n",
        "\n",
        "# Converting audio to mono 16kHz\n",
        "import ffmpeg\n",
        "input_file = \"call_audio.wav\"\n",
        "output_file = \"processed_call.wav\"\n",
        "\n",
        "ffmpeg.input(input_file).output(output_file, ac=1, ar=16000).run(overwrite_output=True)\n",
        "print(\"Audio ready:\", output_file)\n"
      ],
      "metadata": {
        "colab": {
          "base_uri": "https://localhost:8080/"
        },
        "id": "oYDS3KvPepVU",
        "outputId": "70b3194d-ea9c-4862-8598-a531272ad1a8"
      },
      "execution_count": 3,
      "outputs": [
        {
          "output_type": "stream",
          "name": "stdout",
          "text": [
            "[youtube] Extracting URL: https://www.youtube.com/watch?v=4ostqJD3Psc\n",
            "[youtube] 4ostqJD3Psc: Downloading webpage\n",
            "[youtube] 4ostqJD3Psc: Downloading tv simply player API JSON\n",
            "[youtube] 4ostqJD3Psc: Downloading tv client config\n",
            "[youtube] 4ostqJD3Psc: Downloading player 6742b2b9-main\n",
            "[youtube] 4ostqJD3Psc: Downloading tv player API JSON\n",
            "[info] 4ostqJD3Psc: Downloading 1 format(s): 251\n",
            "[download] Sleeping 1.00 seconds as required by the site...\n",
            "[download] Destination: call_audio.webm\n",
            "\u001b[K[download] 100% of    1.99MiB in \u001b[1;37m00:00:00\u001b[0m at \u001b[0;32m12.98MiB/s\u001b[0m\n",
            "[ExtractAudio] Destination: call_audio.wav\n",
            "Deleting original file call_audio.webm (pass -k to keep)\n",
            "Audio ready: processed_call.wav\n"
          ]
        }
      ]
    },
    {
      "cell_type": "code",
      "source": [
        "import whisper\n",
        "from datetime import timedelta\n",
        "\n",
        "# Loading small model\n",
        "model = whisper.load_model(\"tiny\")\n",
        "\n",
        "result = model.transcribe(output_file, verbose=True)\n",
        "segments = result[\"segments\"]\n",
        "\n",
        "print(\"Transcription complete. Example text:\\n\", result[\"text\"][:300])\n"
      ],
      "metadata": {
        "colab": {
          "base_uri": "https://localhost:8080/"
        },
        "id": "8NE-Cwppe0Xd",
        "outputId": "397f1adc-2ee1-45ac-c00b-33dbb8f38b16"
      },
      "execution_count": 4,
      "outputs": [
        {
          "output_type": "stream",
          "name": "stderr",
          "text": [
            "100%|█████████████████████████████████████| 72.1M/72.1M [00:01<00:00, 48.3MiB/s]\n",
            "/usr/local/lib/python3.12/dist-packages/whisper/transcribe.py:132: UserWarning: FP16 is not supported on CPU; using FP32 instead\n",
            "  warnings.warn(\"FP16 is not supported on CPU; using FP32 instead\")\n"
          ]
        },
        {
          "output_type": "stream",
          "name": "stdout",
          "text": [
            "Detecting language using up to the first 30 seconds. Use `--language` to specify the language\n",
            "Detected language: English\n",
            "[00:00.000 --> 00:11.400]  Thank you for calling me son. My name is Lauren. Can I have your name?\n",
            "[00:11.400 --> 00:16.000]  Yes, my name is John Smith. Thank you, John. How can I help you?\n",
            "[00:16.000 --> 00:20.500]  I was just calling about to see how much it would cost to update the map in my car.\n",
            "[00:20.500 --> 00:24.000]  I'd be happy to help you with that today. Did you receive a mail or from us?\n",
            "[00:24.000 --> 00:26.500]  I did. Do you need the customer number?\n",
            "[00:26.500 --> 00:30.500]  Yes, please. Okay. It's 15243.\n",
            "[00:30.500 --> 00:33.500]  Thank you and the year making model of your vehicle.\n",
            "[00:33.500 --> 00:37.500]  Yeah, I have a 2009 Nissan Altaman.\n",
            "[00:37.500 --> 00:38.500]  So nice car.\n",
            "[00:38.500 --> 00:40.500]  Yeah, thank you. We really enjoy it.\n",
            "[00:40.500 --> 00:46.500]  Okay. I think I found your profile here. Can I have you verify your address and phone number? Please.\n",
            "[00:46.500 --> 00:50.500]  Yes. It's 1265 North Research Way.\n",
            "[00:50.500 --> 00:57.500]  That's an RM UTA-84097. And my phone number is A01-431-1000.\n",
            "[00:57.500 --> 01:04.500]  Thanks, John. I located your information. The newest version we have available for your vehicle is version 7.7,\n",
            "[01:04.500 --> 01:11.500]  which was released in March of 2012. The price of the new map is $99. Push it, being attacked.\n",
            "[01:11.500 --> 01:14.500]  Let me go ahead and set up this order for you.\n",
            "[01:14.500 --> 01:18.500]  Can we wait just a second? I'm not really sure if I can afford it right now.\n",
            "[01:18.500 --> 01:22.500]  All right. Well, here are a few reasons to consider purchasing today.\n",
            "[01:22.500 --> 01:26.500]  It looks as though you haven't updated your vehicle for three years.\n",
            "[01:26.500 --> 01:30.500]  So that would be the equivalent of getting three years worth of updates for the price of one.\n",
            "[01:30.500 --> 01:31.500]  Okay.\n",
            "[01:31.500 --> 01:36.500]  In addition, special offers like the current promotion don't come around too often.\n",
            "[01:36.500 --> 01:41.500]  I would definitely recommend taking advantage of the extra $50 off before it expires.\n",
            "[01:41.500 --> 01:44.500]  Yeah, that does sound pretty good.\n",
            "[01:44.500 --> 01:49.500]  If I set this order up for you now, it'll ship out today and for $50 less.\n",
            "[01:49.500 --> 01:53.500]  Do you have your credit card handy and I can place this order for you now?\n",
            "[01:53.500 --> 01:57.500]  Yeah. Let's go ahead and use your visa.\n",
            "Transcription complete. Example text:\n",
            "  Thank you for calling me son. My name is Lauren. Can I have your name? Yes, my name is John Smith. Thank you, John. How can I help you? I was just calling about to see how much it would cost to update the map in my car. I'd be happy to help you with that today. Did you receive a mail or from us? I \n"
          ]
        }
      ]
    },
    {
      "cell_type": "code",
      "source": [
        "# Speaker 1 = Sales Rep, Speaker 2 = Customer\n",
        "for i, seg in enumerate(segments):\n",
        "    seg[\"speaker\"] = \"Sales Rep\" if i % 2 == 0 else \"Customer\"\n",
        "\n",
        "# Show first few\n",
        "for seg in segments[:5]:\n",
        "    print(f\"[{seg['speaker']}] {seg['text']}\")\n"
      ],
      "metadata": {
        "colab": {
          "base_uri": "https://localhost:8080/"
        },
        "id": "gab4tzGVfIKQ",
        "outputId": "966367ef-fb1d-4b3c-f47c-90fb87162537"
      },
      "execution_count": 5,
      "outputs": [
        {
          "output_type": "stream",
          "name": "stdout",
          "text": [
            "[Sales Rep]  Thank you for calling me son. My name is Lauren. Can I have your name?\n",
            "[Customer]  Yes, my name is John Smith. Thank you, John. How can I help you?\n",
            "[Sales Rep]  I was just calling about to see how much it would cost to update the map in my car.\n",
            "[Customer]  I'd be happy to help you with that today. Did you receive a mail or from us?\n",
            "[Sales Rep]  I did. Do you need the customer number?\n"
          ]
        }
      ]
    },
    {
      "cell_type": "code",
      "source": [
        "from vaderSentiment.vaderSentiment import SentimentIntensityAnalyzer\n",
        "\n",
        "analyzer = SentimentIntensityAnalyzer()\n",
        "\n",
        "talk_time = {\"Sales Rep\": 0, \"Customer\": 0}\n",
        "num_questions = 0\n",
        "longest_monologue = 0\n",
        "sentiments = []\n",
        "\n",
        "for seg in segments:\n",
        "    start, end = seg[\"start\"], seg[\"end\"]\n",
        "    duration = end - start\n",
        "    talk_time[seg[\"speaker\"]] += duration\n",
        "\n",
        "    # Longest monologue\n",
        "    if duration > longest_monologue:\n",
        "        longest_monologue = duration\n",
        "\n",
        "    # Count questions\n",
        "    if \"?\" in seg[\"text\"] or seg[\"text\"].strip().lower().startswith((\"what\",\"why\",\"how\",\"when\",\"where\",\"who\")):\n",
        "        num_questions += 1\n",
        "\n",
        "    # Sentiment\n",
        "    sentiments.append(analyzer.polarity_scores(seg[\"text\"])[\"compound\"])\n",
        "\n",
        "# Talk-time ratio\n",
        "total_time = talk_time[\"Sales Rep\"] + talk_time[\"Customer\"]\n",
        "rep_ratio = round((talk_time[\"Sales Rep\"]/total_time)*100,2)\n",
        "cust_ratio = round((talk_time[\"Customer\"]/total_time)*100,2)\n",
        "\n",
        "# sentiment\n",
        "avg_sent = sum(sentiments)/len(sentiments)\n",
        "if avg_sent > 0.05:\n",
        "    sentiment = \"Positive\"\n",
        "elif avg_sent < -0.05:\n",
        "    sentiment = \"Negative\"\n",
        "else:\n",
        "    sentiment = \"Neutral\"\n",
        "\n",
        "# Insight\n",
        "if rep_ratio > 70:\n",
        "    insight = \"Rep should give customer more chance to speak.\"\n",
        "elif num_questions < 3:\n",
        "    insight = \"Rep should ask more questions to engage customer.\"\n",
        "else:\n",
        "    insight = \"Good balance, but can improve engagement.\"\n",
        "\n",
        "print(\"---- RESULTS ----\")\n",
        "print(\"Talk Time Ratio: Sales Rep =\", rep_ratio, \"% | Customer =\", cust_ratio, \"%\")\n",
        "print(\"Questions Asked:\", num_questions)\n",
        "print(\"Longest Monologue (s):\", round(longest_monologue,2))\n",
        "print(\"Call Sentiment:\", sentiment)\n",
        "print(\"Insight:\", insight)\n"
      ],
      "metadata": {
        "colab": {
          "base_uri": "https://localhost:8080/"
        },
        "id": "1jOWqMNGfPXV",
        "outputId": "254a8b95-4865-4a51-fb91-47821413d0c2"
      },
      "execution_count": 6,
      "outputs": [
        {
          "output_type": "stream",
          "name": "stdout",
          "text": [
            "---- RESULTS ----\n",
            "Talk Time Ratio: Sales Rep = 55.66 % | Customer = 44.34 %\n",
            "Questions Asked: 7\n",
            "Longest Monologue (s): 11.4\n",
            "Call Sentiment: Positive\n",
            "Insight: Good balance, but can improve engagement.\n"
          ]
        }
      ]
    }
  ]
}